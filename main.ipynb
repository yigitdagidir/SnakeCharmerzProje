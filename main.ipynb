{
 "cells": [
  {
   "cell_type": "code",
   "execution_count": 3,
   "metadata": {},
   "outputs": [],
   "source": [
    "import random as rn\n",
    "#Müşteri\n",
    "\n",
    "olasilik=50\n",
    "\n",
    "class Dukkan():\n",
    "    def __init__(self,isim, yas,bakiye):\n",
    "        self.isim = isim\n",
    "        self.yas = yas\n",
    "        self.bakiye = 400\n",
    "        \n",
    "    def urun_al(self):\n",
    "        self.urun_fiyat_toplam = 0\n",
    "        self.alinan_adet = rn.randint(1,10)\n",
    "        for i in range(self.alinan_adet):\n",
    "            self.urun_fiyati = rn.randint(1,100)\n",
    "            self.urun_fiyat_toplam += self.urun_fiyati\n",
    "        self.bahsis_birak()\n",
    "        \n",
    "\n",
    "    def bahsis_birak(self):\n",
    "        self.olasilik = rn.randint(1,100)\n",
    "        if self.olasilik<=self.bahsis_olasiligi:\n",
    "            self.bahsis = rn.randint(1,20)\n",
    "\n",
    "    def ucret_al(self):\n",
    "          self.bakiye += self.urun_fiyat_toplam\n",
    "\n",
    "    def bahsis_al(self):\n",
    "          self.bakiye += self.bahsis\n",
    "\n",
    "\n",
    "    def veresiye(self):\n",
    "        self.veresiye_olasilik= rn.randint(1,100)\n",
    "        if self.veresiye_olasilik<=50:\n",
    "            bakiye-=50\n",
    "\n",
    "\n",
    "\n"
   ]
  }
 ],
 "metadata": {
  "kernelspec": {
   "display_name": "Python 3",
   "language": "python",
   "name": "python3"
  },
  "language_info": {
   "codemirror_mode": {
    "name": "ipython",
    "version": 3
   },
   "file_extension": ".py",
   "mimetype": "text/x-python",
   "name": "python",
   "nbconvert_exporter": "python",
   "pygments_lexer": "ipython3",
   "version": "3.11.3"
  },
  "orig_nbformat": 4
 },
 "nbformat": 4,
 "nbformat_minor": 2
}
