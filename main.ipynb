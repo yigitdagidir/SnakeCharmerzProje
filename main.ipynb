import random as rn
class oyun():
    def __init__(self,isim, yas):
        self.isim = isim
        self.yas = yas
        self.bahsis_olasiligi = 50
        self.veresiye_olasiligi = 50
        self.bakiye = 400
        self.veresiye_toplam = 0
        self.gunluk_musteri = 10
        self.guvenlik = 100

    def urun_al(self):
        for j in range(self.gunluk_musteri):
            self.urun_fiyat_toplam = 0
            self.alinan_adet = rn.randint(1,10)
            for i in range(self.alinan_adet):
                self.urun_fiyati = rn.randint(1,100)
                self.urun_fiyat_toplam += self.urun_fiyati
            self.veresiye()
    
    def bahsis_birak(self):
        olasilik = rn.randint(1,100)
        if olasilik<=self.bahsis_olasiligi:
            self.bahsis = rn.randint(1,20)
            print(f"Müşteri {self.bahsis} Lira bahşiş bıraktı. Hesabınıza ekleniyor.")
            self.bahsis_al()

    def ucret_al(self):
          self.bakiye += self.urun_fiyat_toplam

    def bahsis_al(self):
          self.bakiye += self.bahsis

    def bahsis_olasilik_arttir(self):
        if self.bahsis_olasiligi == 100:
            print("Bahşiş olasılığı daha fazla artamaz bahşiş olasılığınız %100.")
        else:
            self.bahsis_olasiligi += 5
            print(f"Tebrikler müşterilere iyi davrandığınız için bahşiş olasılığı %5 artarak {self.bahsis_olasiligi} oldu.")

    def bahsis_olasilik_azalt(self):
        if self.bahsis_olasiligi == 0:
            print("Bahşiş olasılığı daha fazla azalamaz bahşiş olasılığınız %0.")
        else:
            self.bahsis_olasiligi -= 5
            print(f"Maalesef müşterilere iyi davranmadığınız için bahşiş olasılığı %5 azalarak {self.bahsis_olasiligi} oldu.")
    
    def veresiye_ode(self):
        self.bakiye += self.veresiye_toplam
        print(f"Veresiyeler geri ödendi. Bakiyeniz: {self.bakiye} Liradır.")
    
    def guvenlik_azalt(self):
        if self.guvenlik <= 0:
            self.guvenlik = 0
            self.saldiri_yap()
        else:
            self.guvenlik -= 3

    def veresiye(self):
        olasilik= rn.randint(1,100)
        if olasilik<=self.veresiye_olasiligi:
            while True:
                veresiye_istiyor = input(f"Müşteri {self.urun_fiyat_toplam} Lira veresiye vermek istedi kabul ediyor musunuz?")
                veresiye_istiyor = veresiye_istiyor.lower()
                if veresiye_istiyor == "evet":
                    self.veresiye_toplam += self.urun_fiyat_toplam
                    self.bahsis_olasilik_arttir()
                    break
                elif veresiye_istiyor == "hayır":
                    print(f"{self.urun_fiyat_toplam} Lira bakiyenize ekleniyor.")
                    self.ucret_al()
                    self.bahsis_olasilik_azalt()
                    break
                else:
                    print("Hatalı giriş evet veya hayır olarak giriniz.")
        else:
            print(f"{self.urun_fiyat_toplam} bakiyenize ekleniyor.")
            self.ucret_al()
            self.bahsis_birak()



isim = input("İsminizi giriniz")
yas = int(input("Yaşınızı giriniz"))
oyuncu = oyun(isim,yas)
print(f"""
Merhaba {isim},
Oyunumuzu oynamaya karar verdiğin için çok heyecanlıyız ve teşekkür ederiz.
Oyunun kurallarını hızlıca açıklayalım.
Sen bir bakkal yönetiyorsun.
Bu bakkal oyunun başında ücra bir köşede olduğu için günde çok müşteri gelmiyor. Ancak bunu geliştirebilirsin.
Kendine daha gelişmiş dükkanlar alıp daha fazla müşteri gelmesini sağlayabilirsin. Ancak bunu yaparsan belli bir ücret ödemen gerekiyor.
Ve üstüne kira ücretin de artıyor.
Oyunda dikkat etmen gereken diğer şeyler ise müşteriler veresiye istediğinde onlara verirsen onlarla aran iyileştiği için daha sık bahşiş bırakıyorlar.
Ancak izin vermezsen seni sevmemeye başlıyorlar. Dikkat et seni fazla sevmeyen bir çevre sana sorunlar çıkarabilir.
Hırsızlık olayları, dükkana saldırılar artabilir. Bunlar para kaybına yol açar.
Buna karşın güvenlik alabilirsin ama bu saldırıları tamamen engellemez belli bir ölçüde engeller.
""")
while True:
    islem = int(input("""
1 - Sonraki Gün
2 - Dükkan Geliştir
3 - Güvenlik Al
4 - Çıkış Yap    
"""))
    if islem == 4:
        print("Oynadığınız için teşekkürler.")
        break
    elif islem == 1:
        oyuncu.urun_al()
